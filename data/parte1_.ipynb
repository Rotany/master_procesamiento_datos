{
 "cells": [
  {
   "cell_type": "markdown",
   "metadata": {},
   "source": [
    "## 1. El siguiente boxplot representa los conjuntos de valores de la longitud del sépalo de la flor de tres tipos distintos de iris. Responded verdadero o falso a las siguientes afirmaciones. Basad vuestras respuestas en la información que se ve en la gráfica, sin usar el dataset original ni calcular los valores con código.\n",
    "\n",
    "\n"
   ]
  },
  {
   "cell_type": "markdown",
   "metadata": {},
   "source": [
    "### a. Las medianas de la longitud del sépalo para las variedades Versicolor y Virginica son iguales."
   ]
  },
  {
   "cell_type": "markdown",
   "metadata": {},
   "source": [
    "No son iguales, porque las línias de las medianas de ambas variedades no estan en la misma posición. Las cajas se dividen por el mismo lado pero los valores de la variedad virgica estan más altos. La mediana de las variedades virginica es mayor.\n",
    "\n"
   ]
  },
  {
   "cell_type": "markdown",
   "metadata": {},
   "source": [
    "### b. Todos los elementos de la variedad Setosa tienen una longitud del sépalo inferior a la de cualquier elemento de la variedad Virginica."
   ]
  },
  {
   "cell_type": "markdown",
   "metadata": {},
   "source": [
    "No , porque hay valores de la variedad setosa  que estan por encima del minimo de la variedad virginica."
   ]
  },
  {
   "cell_type": "markdown",
   "metadata": {},
   "source": [
    "### c. El mínimo valor de longitud del sépalo de la varieda Virginica es más de medio centímetro más largo que el mínimo valor de la longitud del sépalo para la variedad Versicolor."
   ]
  },
  {
   "cell_type": "markdown",
   "metadata": {},
   "source": [
    "Si, porque aproximadamente la longitud del sepalo en el punto minimo de la variedad virginica es un poco mayor que 5.5 y el minimo de la variedad versicolor es menos de 5.0"
   ]
  },
  {
   "cell_type": "markdown",
   "metadata": {},
   "source": [
    "### d. Podemos asegurar que el 75% de los elementos de la variedad Virginica tienen una longitud del sépalo superior a la de cualquier elemento de la variedad Setosa."
   ]
  },
  {
   "cell_type": "markdown",
   "metadata": {},
   "source": [
    "Si, almenos el 75% de los elementos de la variedad virginica tienen una longitud de sepalo superior que los elementos de la variedad setosa. Dicho esto los valores del rango intercuartil bajo de la variedad virginica son superiores a los valores del límite superior de la variedad setosa."
   ]
  },
  {
   "cell_type": "markdown",
   "metadata": {},
   "source": [
    "### e. Solo el 40% de los elementos de la variedad Setosa tienen una longitud del sépalo mayor que el mínimo de la longitud del sépalo de la variedad Versicolor"
   ]
  },
  {
   "cell_type": "markdown",
   "metadata": {},
   "source": [
    "No, porque hay más del 40% de los elementos de la variedad setosa  que  tienen una longitud mayor que el límite inferior de la variedad versicolor. Dicho esto los valores del límite inferior de la longitud del sepalo de la variedad versicolor estan por debajo de la media de la longitud del sepalo de la variedad setosa, lo que indica que almenos el 50% de los datos es superior al minimo de la longitud del sepalo de la variedad versicolor.\n"
   ]
  },
  {
   "cell_type": "markdown",
   "metadata": {},
   "source": [
    "### f. Solo la variedad Virginica presenta un valor anómalo de la longitud del sépalo."
   ]
  },
  {
   "cell_type": "markdown",
   "metadata": {},
   "source": [
    "Si, porque la longitud de la variedad Virginica presenta valores después de su limite inferior."
   ]
  }
 ],
 "metadata": {
  "language_info": {
   "name": "python"
  }
 },
 "nbformat": 4,
 "nbformat_minor": 2
}
